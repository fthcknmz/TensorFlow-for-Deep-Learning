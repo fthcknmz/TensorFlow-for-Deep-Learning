{
  "nbformat": 4,
  "nbformat_minor": 0,
  "metadata": {
    "colab": {
      "provenance": [],
      "authorship_tag": "ABX9TyNTBzk8oxT0vlng/AC2ZNAW",
      "include_colab_link": true
    },
    "kernelspec": {
      "name": "python3",
      "display_name": "Python 3"
    },
    "language_info": {
      "name": "python"
    },
    "accelerator": "GPU",
    "gpuClass": "standard"
  },
  "cells": [
    {
      "cell_type": "markdown",
      "metadata": {
        "id": "view-in-github",
        "colab_type": "text"
      },
      "source": [
        "<a href=\"https://colab.research.google.com/github/fthcknmz/TensorFlow-for-Deep-Learning/blob/main/ConvertCelsiusToFahrenheit.ipynb\" target=\"_parent\"><img src=\"https://colab.research.google.com/assets/colab-badge.svg\" alt=\"Open In Colab\"/></a>"
      ]
    },
    {
      "cell_type": "markdown",
      "source": [
        "f = c*1.8+32\n",
        "f: fahrenheit\n",
        "c: celsius"
      ],
      "metadata": {
        "id": "np-Rpa8S3OmX"
      }
    },
    {
      "cell_type": "code",
      "source": [
        "import tensorflow as tf\n",
        "\n",
        "import numpy as np\n",
        "import logging\n",
        "logger = tf.get_logger()\n",
        "logger.setLevel(logging.ERROR)\n",
        "\n",
        "print(\"imports are done!\")"
      ],
      "metadata": {
        "colab": {
          "base_uri": "https://localhost:8080/"
        },
        "id": "meUTHhcQ1zwP",
        "outputId": "02a322b5-949d-45ea-ffa0-fbb76c3a91a3"
      },
      "execution_count": null,
      "outputs": [
        {
          "output_type": "stream",
          "name": "stdout",
          "text": [
            "imports are done!\n"
          ]
        }
      ]
    },
    {
      "cell_type": "markdown",
      "source": [
        "# **Set up training data**\n",
        "\n",
        "*   inputs are called feature (celsius degree)\n",
        "*   outputs are called labels (fahrenheit degree)"
      ],
      "metadata": {
        "id": "cFSPi5Cf4is2"
      }
    },
    {
      "cell_type": "code",
      "source": [
        "celsius_q = np.array([-40, -10,  0,  8, 15, 22,  38], dtype=float)\n",
        "fahrenheit_a = np.array([-40,  14, 32, 46, 59, 72, 100], dtype=float)\n",
        "\n",
        "for i,c in enumerate(celsius_q):\n",
        "  print(\"{} degrees celcius = {} degrees fahrenheit\".format(c, fahrenheit_a[i]))\n",
        "\n"
      ],
      "metadata": {
        "colab": {
          "base_uri": "https://localhost:8080/"
        },
        "id": "ghdE7d7M4hyQ",
        "outputId": "18af69f0-378e-44ad-83bb-72f72f933be3"
      },
      "execution_count": null,
      "outputs": [
        {
          "output_type": "stream",
          "name": "stdout",
          "text": [
            "-40.0 degrees celcius = -40.0 degrees fahrenheit\n",
            "-10.0 degrees celcius = 14.0 degrees fahrenheit\n",
            "0.0 degrees celcius = 32.0 degrees fahrenheit\n",
            "8.0 degrees celcius = 46.0 degrees fahrenheit\n",
            "15.0 degrees celcius = 59.0 degrees fahrenheit\n",
            "22.0 degrees celcius = 72.0 degrees fahrenheit\n",
            "38.0 degrees celcius = 100.0 degrees fahrenheit\n"
          ]
        }
      ]
    },
    {
      "cell_type": "markdown",
      "source": [
        "# **Create the model**\n",
        "in this case, we use a single layer network\n",
        "\n",
        "\n"
      ],
      "metadata": {
        "id": "VojGSjp77Qpd"
      }
    },
    {
      "cell_type": "markdown",
      "source": [
        "*Build a layer*\n",
        "\n",
        "\n",
        "*   input_shape=[1] : specifies that the input to this layer is a single value.\n",
        "(a one-dimensional array with one member)\n",
        "*   units=1 : specifies the number of neurons in the layer.\n",
        "(how many internal variables the layer has to try to learn how to solve the problem)"
      ],
      "metadata": {
        "id": "V6q0h-aX8sXY"
      }
    },
    {
      "cell_type": "code",
      "source": [
        "l0 = tf.keras.layers.Dense(units=1, input_shape=[1])"
      ],
      "metadata": {
        "id": "1BtmN8267ZQn"
      },
      "execution_count": null,
      "outputs": []
    },
    {
      "cell_type": "markdown",
      "source": [
        "*Assemble layers into the model*\n",
        "\n",
        "The Sequential model definition takes a list of layers as an argument, specifying the calculation order from the input to the output.\n"
      ],
      "metadata": {
        "id": "nAwpbtIk8o-s"
      }
    },
    {
      "cell_type": "code",
      "source": [
        "model = tf.keras.Sequential([l0])"
      ],
      "metadata": {
        "id": "DUslpSMU9B31"
      },
      "execution_count": null,
      "outputs": []
    },
    {
      "cell_type": "markdown",
      "source": [
        "# **Compile the model**\n",
        "Before training, the model has to be compiled\n",
        "\n",
        "\n",
        "*   Loss function : A way of measuring how far off predictions are from the desired outcome. (The measured difference is called the \"loss\".)\n",
        "\n",
        "*   Optimizer function — A way of adjusting internal values in order to reduce the loss.\n",
        "\n",
        "0.1 is learning rate, how agressively tr to find the best model (the range is usually within 0.001 (default), and 0.1)\n"
      ],
      "metadata": {
        "id": "qn3YNhaL9Xts"
      }
    },
    {
      "cell_type": "code",
      "source": [
        "model.compile(loss='mean_squared_error',\n",
        "              optimizer=tf.keras.optimizers.Adam(0.1))"
      ],
      "metadata": {
        "id": "98RSDwmt9s4X"
      },
      "execution_count": null,
      "outputs": []
    },
    {
      "cell_type": "markdown",
      "source": [
        "# **Train the model**\n",
        "Train the model by calling the fit method.\n",
        "The cycle of calculate, compare, adjust is controlled by the fit method.\n",
        "\n",
        "\n",
        "*   epochs : how many times this cycle should be run.\n",
        "*   verbose : how much output the method produces.\n",
        "\n",
        "\n"
      ],
      "metadata": {
        "id": "fXxL2sdO_bTv"
      }
    },
    {
      "cell_type": "code",
      "source": [
        "history = model.fit(celsius_q, fahrenheit_a, epochs=500, verbose=False)\n",
        "print(\"the model has been trained!\")"
      ],
      "metadata": {
        "colab": {
          "base_uri": "https://localhost:8080/"
        },
        "id": "nRaFrUa-_07y",
        "outputId": "b4a7de70-53e7-4735-e6f9-8b997a7ce1ec"
      },
      "execution_count": null,
      "outputs": [
        {
          "output_type": "stream",
          "name": "stdout",
          "text": [
            "the model has been trained\n"
          ]
        }
      ]
    },
    {
      "cell_type": "markdown",
      "source": [
        "***Display training statistics***\n",
        "\n",
        "the fit method returns a history object, use this object to plot how the loss of our model goes down after each training epoch.\n",
        "\n",
        "\n"
      ],
      "metadata": {
        "id": "Y1grJVBhAJ26"
      }
    },
    {
      "cell_type": "code",
      "source": [
        "import matplotlib.pyplot as plt\n",
        "plt.xlabel('Epoch number')\n",
        "plt.ylabel('Loss magnitude')\n",
        "plt.plot(history.history['loss'])"
      ],
      "metadata": {
        "colab": {
          "base_uri": "https://localhost:8080/",
          "height": 296
        },
        "id": "SpbFaslEAjZa",
        "outputId": "b5c41032-3089-43f4-acdb-8f4a8c3642b8"
      },
      "execution_count": null,
      "outputs": [
        {
          "output_type": "execute_result",
          "data": {
            "text/plain": [
              "[<matplotlib.lines.Line2D at 0x7f1290111370>]"
            ]
          },
          "metadata": {},
          "execution_count": 10
        },
        {
          "output_type": "display_data",
          "data": {
            "text/plain": [
              "<Figure size 432x288 with 1 Axes>"
            ],
            "image/png": "[encoded data removed]"
          },
          "metadata": {
            "needs_background": "light"
          }
        }
      ]
    },
    {
      "cell_type": "markdown",
      "source": [
        "# **Use the model to predict values**\n",
        "the model has been trained to learn the relationship between celsius_q and fahrenheit_a. \n",
        "we are able to use the predict method to have it calculate the Fahrenheit degrees for a previously unknown Celsius degrees.\n",
        "\n",
        "example: 100 celsius degree = ? fahrenhait degree"
      ],
      "metadata": {
        "id": "gnFrhs_EBcVx"
      }
    },
    {
      "cell_type": "code",
      "source": [
        "print(model.predict([100.0]))"
      ],
      "metadata": {
        "colab": {
          "base_uri": "https://localhost:8080/"
        },
        "id": "W554RZEACCNA",
        "outputId": "0876da91-d95e-4ee4-c937-d2ed3240984e"
      },
      "execution_count": null,
      "outputs": [
        {
          "output_type": "stream",
          "name": "stdout",
          "text": [
            "1/1 [==============================] - 0s 75ms/step\n",
            "[[211.33176]]\n"
          ]
        }
      ]
    },
    {
      "cell_type": "markdown",
      "source": [
        "exact value is:"
      ],
      "metadata": {
        "id": "v_NClAjRCPl1"
      }
    },
    {
      "cell_type": "code",
      "source": [
        "f = 100*1.8+32\n",
        "print(f)"
      ],
      "metadata": {
        "colab": {
          "base_uri": "https://localhost:8080/"
        },
        "id": "bbVLkt29CSSF",
        "outputId": "e70d9315-1a4c-49c4-e068-f51a9b52dba9"
      },
      "execution_count": null,
      "outputs": [
        {
          "output_type": "stream",
          "name": "stdout",
          "text": [
            "212.0\n"
          ]
        }
      ]
    },
    {
      "cell_type": "markdown",
      "source": [
        "# **The layer weights**"
      ],
      "metadata": {
        "id": "vHv9eGB4Cv15"
      }
    },
    {
      "cell_type": "code",
      "source": [
        "print(\"These are the layer variables: {}\".format(l0.get_weights()))"
      ],
      "metadata": {
        "colab": {
          "base_uri": "https://localhost:8080/"
        },
        "id": "QxYl0VsNC3RB",
        "outputId": "333d8c0f-8817-4f53-a5f7-6fdf23cb21c9"
      },
      "execution_count": null,
      "outputs": [
        {
          "output_type": "stream",
          "name": "stdout",
          "text": [
            "These are the layer variables: [array([[1.8214796]], dtype=float32), array([29.183815], dtype=float32)]\n"
          ]
        }
      ]
    },
    {
      "cell_type": "markdown",
      "source": [
        "the first ~1.8 and the second ~32 values (1.8 and 32) are the actual variables in the real conversion formula."
      ],
      "metadata": {
        "id": "0I__ON5DC_D4"
      }
    },
    {
      "cell_type": "markdown",
      "source": [
        "# **MORE ON THAT**"
      ],
      "metadata": {
        "id": "zzZTMU-QDppw"
      }
    },
    {
      "cell_type": "code",
      "source": [
        "l0 = tf.keras.layers.Dense(units=4, input_shape=[1])\n",
        "l1 = tf.keras.layers.Dense(units=4)\n",
        "l2 = tf.keras.layers.Dense(units=1)\n",
        "\n",
        "model = tf.keras.Sequential([l0, l1, l2])\n",
        "model.compile(loss='mean_squared_error',\n",
        "              optimizer=tf.keras.optimizers.Adam(0.1))\n",
        "model.fit(celsius_q, fahrenheit_a, epochs=500, verbose=False)\n",
        "print(\"model is trained!\")\n",
        "\n",
        "print(model.predict([100.0]))\n",
        "\n",
        "print(\"Model predicts that 100 degrees Celsius is: {} degrees Fahrenheit\".format(model.predict([100.0])))\n",
        "print(\"These are the l0 variables: {}\".format(l0.get_weights()))\n",
        "print(\"These are the l1 variables: {}\".format(l1.get_weights()))\n",
        "print(\"These are the l2 variables: {}\".format(l2.get_weights()))\n"
      ],
      "metadata": {
        "colab": {
          "base_uri": "https://localhost:8080/"
        },
        "id": "rxZAC5NJDsug",
        "outputId": "7297032a-a23d-42e0-d1a6-4e394cee5266"
      },
      "execution_count": null,
      "outputs": [
        {
          "output_type": "stream",
          "name": "stdout",
          "text": [
            "model is trained!\n",
            "1/1 [==============================] - 0s 61ms/step\n",
            "[[211.74747]]\n",
            "1/1 [==============================] - 0s 23ms/step\n",
            "Model predicts that 100 degrees Celsius is: [[211.74747]] degrees Fahrenheit\n",
            "These are the l0 variables: [array([[ 0.18213168,  0.5559235 , -0.5085372 , -0.32432494]],\n",
            "      dtype=float32), array([-2.9596138,  3.5546386, -1.4534235, -3.6672957], dtype=float32)]\n",
            "These are the l1 variables: [array([[-0.7721858 ,  0.9079258 ,  0.70640695, -0.00991228],\n",
            "       [ 1.3770593 , -0.13185988, -1.2445881 , -0.8631066 ],\n",
            "       [ 0.32476613, -0.2800731 ,  0.04917632, -1.4922624 ],\n",
            "       [-1.2755256 , -0.18158822,  0.9947697 , -0.30299532]],\n",
            "      dtype=float32), array([ 3.5640678 ,  0.02404401, -3.1330903 ,  1.9666139 ], dtype=float32)]\n",
            "These are the l2 variables: [array([[ 1.1868224 ],\n",
            "       [-0.06197846],\n",
            "       [-0.7630118 ],\n",
            "       [ 0.22507793]], dtype=float32), array([3.3853416], dtype=float32)]\n"
          ]
        }
      ]
    }
  ]
}